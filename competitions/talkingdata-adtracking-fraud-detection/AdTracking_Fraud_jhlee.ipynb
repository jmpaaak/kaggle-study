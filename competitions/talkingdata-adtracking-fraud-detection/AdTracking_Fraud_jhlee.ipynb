{
 "cells": [
  {
   "cell_type": "markdown",
   "metadata": {},
   "source": [
    "### DATA 설명\n",
    "\n",
    "#### 1. ip: ip address of click\n",
    "#### 2. app: app id for marketing\n",
    "#### 3. device: device type id of user mobile phone (e.g., iphone 6 plus, iphone 7, huawei mate 7, etc.)\n",
    "#### 4. os: os version id of user mobile phone\n",
    "#### 5. channel: channel id of mobile ad publisher\n",
    "#### 6. click_time: timestamp of click (UTC)\n",
    "#### 7. attributed_time: if user download the app for after clicking an ad, this is the time of the app download\n",
    "#### 8. is_attributed: the target that is to be predicted, indicating the app was downloaded"
   ]
  },
  {
   "cell_type": "markdown",
   "metadata": {},
   "source": [
    "### 라이브러리"
   ]
  },
  {
   "cell_type": "code",
   "execution_count": 2,
   "metadata": {},
   "outputs": [],
   "source": [
    "# 라이브러리\n",
    "import pandas as pd # data processing, CSV file I/O (e.g. pd.read_csv)\n",
    "import time\n",
    "import numpy as np\n",
    "# from sklearn.cross_validation import train_test_split\n",
    "# import xgboost as xgb\n",
    "import matplotlib.pyplot as plt\n",
    "%matplotlib inline\n",
    "import seaborn as sns\n",
    "sns.set(style='ticks')\n",
    "color = sns.color_palette()\n",
    "# import datetime\n",
    "# import time"
   ]
  },
  {
   "cell_type": "code",
   "execution_count": 1,
   "metadata": {},
   "outputs": [],
   "source": [
    "import xgboost as xgb"
   ]
  },
  {
   "cell_type": "markdown",
   "metadata": {},
   "source": [
    "### 데이터 타입"
   ]
  },
  {
   "cell_type": "code",
   "execution_count": 3,
   "metadata": {},
   "outputs": [
    {
     "name": "stdout",
     "output_type": "stream",
     "text": [
      "[127.54818773269653] Finished to load data\n"
     ]
    }
   ],
   "source": [
    "# 데이터 타입 \n",
    "start_time = time.time()\n",
    "\n",
    "dtypes = {\n",
    "        'ip':'uint32',\n",
    "        'app': 'uint16',\n",
    "        'device': 'uint16',\n",
    "        'os': 'uint16',\n",
    "        'channel': 'uint16',\n",
    "        'is_attributed': 'uint8'\n",
    "        }\n",
    "\n",
    "train = pd.read_csv(\"./data/train.csv\", dtype = dtypes)\n",
    "train.columns = ['ip', 'app', 'device', 'os', 'channel', 'click_time', 'attributed_time', 'is_attributed']\n",
    "test = pd.read_csv(\"./data/test.csv\")\n",
    "\n",
    "print('[{}] Finished to load data'.format(time.time() - start_time))"
   ]
  },
  {
   "cell_type": "markdown",
   "metadata": {},
   "source": [
    "### EDA"
   ]
  },
  {
   "cell_type": "code",
   "execution_count": 5,
   "metadata": {},
   "outputs": [
    {
     "data": {
      "text/html": [
       "<div>\n",
       "<style>\n",
       "    .dataframe thead tr:only-child th {\n",
       "        text-align: right;\n",
       "    }\n",
       "\n",
       "    .dataframe thead th {\n",
       "        text-align: left;\n",
       "    }\n",
       "\n",
       "    .dataframe tbody tr th {\n",
       "        vertical-align: top;\n",
       "    }\n",
       "</style>\n",
       "<table border=\"1\" class=\"dataframe\">\n",
       "  <thead>\n",
       "    <tr style=\"text-align: right;\">\n",
       "      <th></th>\n",
       "      <th>ip</th>\n",
       "      <th>app</th>\n",
       "      <th>device</th>\n",
       "      <th>os</th>\n",
       "      <th>channel</th>\n",
       "      <th>click_time</th>\n",
       "      <th>attributed_time</th>\n",
       "      <th>is_attributed</th>\n",
       "    </tr>\n",
       "  </thead>\n",
       "  <tbody>\n",
       "    <tr>\n",
       "      <th>0</th>\n",
       "      <td>83230</td>\n",
       "      <td>3</td>\n",
       "      <td>1</td>\n",
       "      <td>13</td>\n",
       "      <td>379</td>\n",
       "      <td>2017-11-06 14:32:21</td>\n",
       "      <td>NaN</td>\n",
       "      <td>0</td>\n",
       "    </tr>\n",
       "    <tr>\n",
       "      <th>1</th>\n",
       "      <td>17357</td>\n",
       "      <td>3</td>\n",
       "      <td>1</td>\n",
       "      <td>19</td>\n",
       "      <td>379</td>\n",
       "      <td>2017-11-06 14:33:34</td>\n",
       "      <td>NaN</td>\n",
       "      <td>0</td>\n",
       "    </tr>\n",
       "    <tr>\n",
       "      <th>2</th>\n",
       "      <td>35810</td>\n",
       "      <td>3</td>\n",
       "      <td>1</td>\n",
       "      <td>13</td>\n",
       "      <td>379</td>\n",
       "      <td>2017-11-06 14:34:12</td>\n",
       "      <td>NaN</td>\n",
       "      <td>0</td>\n",
       "    </tr>\n",
       "    <tr>\n",
       "      <th>3</th>\n",
       "      <td>45745</td>\n",
       "      <td>14</td>\n",
       "      <td>1</td>\n",
       "      <td>13</td>\n",
       "      <td>478</td>\n",
       "      <td>2017-11-06 14:34:52</td>\n",
       "      <td>NaN</td>\n",
       "      <td>0</td>\n",
       "    </tr>\n",
       "    <tr>\n",
       "      <th>4</th>\n",
       "      <td>161007</td>\n",
       "      <td>3</td>\n",
       "      <td>1</td>\n",
       "      <td>13</td>\n",
       "      <td>379</td>\n",
       "      <td>2017-11-06 14:35:08</td>\n",
       "      <td>NaN</td>\n",
       "      <td>0</td>\n",
       "    </tr>\n",
       "    <tr>\n",
       "      <th>5</th>\n",
       "      <td>18787</td>\n",
       "      <td>3</td>\n",
       "      <td>1</td>\n",
       "      <td>16</td>\n",
       "      <td>379</td>\n",
       "      <td>2017-11-06 14:36:26</td>\n",
       "      <td>NaN</td>\n",
       "      <td>0</td>\n",
       "    </tr>\n",
       "    <tr>\n",
       "      <th>6</th>\n",
       "      <td>103022</td>\n",
       "      <td>3</td>\n",
       "      <td>1</td>\n",
       "      <td>23</td>\n",
       "      <td>379</td>\n",
       "      <td>2017-11-06 14:37:44</td>\n",
       "      <td>NaN</td>\n",
       "      <td>0</td>\n",
       "    </tr>\n",
       "    <tr>\n",
       "      <th>7</th>\n",
       "      <td>114221</td>\n",
       "      <td>3</td>\n",
       "      <td>1</td>\n",
       "      <td>19</td>\n",
       "      <td>379</td>\n",
       "      <td>2017-11-06 14:37:59</td>\n",
       "      <td>NaN</td>\n",
       "      <td>0</td>\n",
       "    </tr>\n",
       "    <tr>\n",
       "      <th>8</th>\n",
       "      <td>165970</td>\n",
       "      <td>3</td>\n",
       "      <td>1</td>\n",
       "      <td>13</td>\n",
       "      <td>379</td>\n",
       "      <td>2017-11-06 14:38:10</td>\n",
       "      <td>NaN</td>\n",
       "      <td>0</td>\n",
       "    </tr>\n",
       "    <tr>\n",
       "      <th>9</th>\n",
       "      <td>74544</td>\n",
       "      <td>64</td>\n",
       "      <td>1</td>\n",
       "      <td>22</td>\n",
       "      <td>459</td>\n",
       "      <td>2017-11-06 14:38:23</td>\n",
       "      <td>NaN</td>\n",
       "      <td>0</td>\n",
       "    </tr>\n",
       "  </tbody>\n",
       "</table>\n",
       "</div>"
      ],
      "text/plain": [
       "       ip  app  device  os  channel           click_time attributed_time  \\\n",
       "0   83230    3       1  13      379  2017-11-06 14:32:21             NaN   \n",
       "1   17357    3       1  19      379  2017-11-06 14:33:34             NaN   \n",
       "2   35810    3       1  13      379  2017-11-06 14:34:12             NaN   \n",
       "3   45745   14       1  13      478  2017-11-06 14:34:52             NaN   \n",
       "4  161007    3       1  13      379  2017-11-06 14:35:08             NaN   \n",
       "5   18787    3       1  16      379  2017-11-06 14:36:26             NaN   \n",
       "6  103022    3       1  23      379  2017-11-06 14:37:44             NaN   \n",
       "7  114221    3       1  19      379  2017-11-06 14:37:59             NaN   \n",
       "8  165970    3       1  13      379  2017-11-06 14:38:10             NaN   \n",
       "9   74544   64       1  22      459  2017-11-06 14:38:23             NaN   \n",
       "\n",
       "   is_attributed  \n",
       "0              0  \n",
       "1              0  \n",
       "2              0  \n",
       "3              0  \n",
       "4              0  \n",
       "5              0  \n",
       "6              0  \n",
       "7              0  \n",
       "8              0  \n",
       "9              0  "
      ]
     },
     "execution_count": 5,
     "metadata": {},
     "output_type": "execute_result"
    }
   ],
   "source": [
    "# 상위 10개\n",
    "train.head(n = 10)"
   ]
  },
  {
   "cell_type": "code",
   "execution_count": 6,
   "metadata": {},
   "outputs": [
    {
     "name": "stdout",
     "output_type": "stream",
     "text": [
      "<class 'pandas.core.frame.DataFrame'>\n",
      "RangeIndex: 184903890 entries, 0 to 184903889\n",
      "Data columns (total 8 columns):\n",
      "ip                 uint32\n",
      "app                uint16\n",
      "device             uint16\n",
      "os                 uint16\n",
      "channel            uint16\n",
      "click_time         object\n",
      "attributed_time    object\n",
      "is_attributed      uint8\n",
      "dtypes: object(2), uint16(4), uint32(1), uint8(1)\n",
      "memory usage: 5.0+ GB\n"
     ]
    }
   ],
   "source": [
    "# 데이터 정보 (5.0 GB) / R보다 느린듯\n",
    "train.info()"
   ]
  },
  {
   "cell_type": "code",
   "execution_count": 18,
   "metadata": {},
   "outputs": [
    {
     "data": {
      "image/png": "[encoded data removed]",
      "text/plain": [
       "<matplotlib.figure.Figure at 0x256345f28>"
      ]
     },
     "metadata": {},
     "output_type": "display_data"
    }
   ],
   "source": [
    "# 불균형 문제\n",
    "# 0 : 99.75 %\n",
    "# 1 : 0.25 %\n",
    "plt.figure(figsize=(8, 8))\n",
    "sns.set(font_scale=1.2)\n",
    "mean = (train.is_attributed.values == 1).mean()\n",
    "ax = sns.barplot(['is_attributed : 1', 'is_attributed : 0'], [mean, 1 - mean], palette = color)\n",
    "ax.set(xlabel='Target Value', ylabel='Probability', title='Target value distribution')\n",
    "for p, uniq in zip(ax.patches, [mean, 1-mean]):\n",
    "    height = p.get_height()\n",
    "    ax.text(p.get_x() + p.get_width()/2.,\n",
    "            height + 0.01,\n",
    "            '{}%'.format(round(uniq * 100, 2)),\n",
    "            ha=\"center\") "
   ]
  },
  {
   "cell_type": "code",
   "execution_count": 165,
   "metadata": {},
   "outputs": [
    {
     "data": {
      "text/plain": [
       "0.0024707214109989791"
      ]
     },
     "execution_count": 165,
     "metadata": {},
     "output_type": "execute_result"
    }
   ],
   "source": [
    "(train.is_attributed.values == 1).mean()"
   ]
  },
  {
   "cell_type": "code",
   "execution_count": null,
   "metadata": {
    "collapsed": true
   },
   "outputs": [],
   "source": [
    "# train 전체 ip 값 고유개수는 277,396"
   ]
  },
  {
   "cell_type": "code",
   "execution_count": 166,
   "metadata": {},
   "outputs": [
    {
     "data": {
      "text/plain": [
       "ip\n",
       "1         9\n",
       "6         2\n",
       "9         6\n",
       "10        3\n",
       "19        4\n",
       "20        4\n",
       "25        2\n",
       "27        8\n",
       "31        3\n",
       "32        1\n",
       "36        6\n",
       "39        2\n",
       "45        2\n",
       "52        1\n",
       "59        9\n",
       "60        2\n",
       "61        2\n",
       "62        1\n",
       "63        5\n",
       "83        5\n",
       "85        2\n",
       "88        2\n",
       "92        3\n",
       "93        1\n",
       "95        2\n",
       "107       1\n",
       "108       1\n",
       "113       1\n",
       "114       3\n",
       "117       2\n",
       "         ..\n",
       "364746    1\n",
       "364747    1\n",
       "364748    1\n",
       "364750    1\n",
       "364751    1\n",
       "364752    2\n",
       "364753    1\n",
       "364754    1\n",
       "364755    1\n",
       "364756    1\n",
       "364757    1\n",
       "364758    1\n",
       "364759    1\n",
       "364760    1\n",
       "364762    1\n",
       "364763    1\n",
       "364764    1\n",
       "364765    1\n",
       "364766    1\n",
       "364767    1\n",
       "364768    1\n",
       "364769    1\n",
       "364770    1\n",
       "364771    1\n",
       "364772    1\n",
       "364773    2\n",
       "364774    1\n",
       "364776    1\n",
       "364777    1\n",
       "364778    1\n",
       "Length: 245038, dtype: int64"
      ]
     },
     "execution_count": 166,
     "metadata": {},
     "output_type": "execute_result"
    }
   ],
   "source": [
    "# 245,038 개\n",
    "len(train[train.is_attributed == 1].groupby('ip').size())"
   ]
  },
  {
   "cell_type": "code",
   "execution_count": 167,
   "metadata": {},
   "outputs": [
    {
     "data": {
      "text/plain": [
       "ip\n",
       "1           38\n",
       "5           24\n",
       "6         1452\n",
       "9         4023\n",
       "10        1177\n",
       "19         842\n",
       "20        5967\n",
       "25         444\n",
       "27        4999\n",
       "31        1036\n",
       "32         239\n",
       "33         451\n",
       "36        6737\n",
       "39         594\n",
       "45        3753\n",
       "52         533\n",
       "55         396\n",
       "59        4570\n",
       "60         668\n",
       "61        2144\n",
       "62         754\n",
       "63        3209\n",
       "81         519\n",
       "83        1782\n",
       "85        1962\n",
       "88        4276\n",
       "92        4454\n",
       "93         907\n",
       "95        2674\n",
       "104       1373\n",
       "          ... \n",
       "364740     100\n",
       "364741      25\n",
       "364742      16\n",
       "364743       2\n",
       "364744     394\n",
       "364745       6\n",
       "364747      13\n",
       "364748      18\n",
       "364749      31\n",
       "364751       6\n",
       "364752      21\n",
       "364753       1\n",
       "364755      38\n",
       "364757     507\n",
       "364758     217\n",
       "364759     363\n",
       "364761     226\n",
       "364762       1\n",
       "364764     181\n",
       "364765      16\n",
       "364767       7\n",
       "364768       2\n",
       "364770       1\n",
       "364771       2\n",
       "364773      13\n",
       "364774       2\n",
       "364775      24\n",
       "364776     308\n",
       "364777       4\n",
       "364778      15\n",
       "Length: 235382, dtype: int64"
      ]
     },
     "execution_count": 167,
     "metadata": {},
     "output_type": "execute_result"
    }
   ],
   "source": [
    "# 235,382 개 \n",
    "len(train[train.is_attributed == 0].groupby('ip').size())"
   ]
  },
  {
   "cell_type": "code",
   "execution_count": 8,
   "metadata": {},
   "outputs": [
    {
     "data": {
      "text/html": [
       "<div>\n",
       "<style>\n",
       "    .dataframe thead tr:only-child th {\n",
       "        text-align: right;\n",
       "    }\n",
       "\n",
       "    .dataframe thead th {\n",
       "        text-align: left;\n",
       "    }\n",
       "\n",
       "    .dataframe tbody tr th {\n",
       "        vertical-align: top;\n",
       "    }\n",
       "</style>\n",
       "<table border=\"1\" class=\"dataframe\">\n",
       "  <thead>\n",
       "    <tr style=\"text-align: right;\">\n",
       "      <th></th>\n",
       "      <th>ip</th>\n",
       "      <th>app</th>\n",
       "      <th>device</th>\n",
       "      <th>os</th>\n",
       "      <th>channel</th>\n",
       "      <th>is_attributed</th>\n",
       "    </tr>\n",
       "  </thead>\n",
       "  <tbody>\n",
       "    <tr>\n",
       "      <th>count</th>\n",
       "      <td>1.849039e+08</td>\n",
       "      <td>1.849039e+08</td>\n",
       "      <td>1.849039e+08</td>\n",
       "      <td>1.849039e+08</td>\n",
       "      <td>1.849039e+08</td>\n",
       "      <td>1.849039e+08</td>\n",
       "    </tr>\n",
       "    <tr>\n",
       "      <th>mean</th>\n",
       "      <td>9.087604e+04</td>\n",
       "      <td>1.201131e+01</td>\n",
       "      <td>2.172325e+01</td>\n",
       "      <td>2.267702e+01</td>\n",
       "      <td>2.685789e+02</td>\n",
       "      <td>2.470721e-03</td>\n",
       "    </tr>\n",
       "    <tr>\n",
       "      <th>std</th>\n",
       "      <td>6.952789e+04</td>\n",
       "      <td>1.480521e+01</td>\n",
       "      <td>2.593326e+02</td>\n",
       "      <td>5.525282e+01</td>\n",
       "      <td>1.295882e+02</td>\n",
       "      <td>4.964491e-02</td>\n",
       "    </tr>\n",
       "    <tr>\n",
       "      <th>min</th>\n",
       "      <td>1.000000e+00</td>\n",
       "      <td>0.000000e+00</td>\n",
       "      <td>0.000000e+00</td>\n",
       "      <td>0.000000e+00</td>\n",
       "      <td>0.000000e+00</td>\n",
       "      <td>0.000000e+00</td>\n",
       "    </tr>\n",
       "    <tr>\n",
       "      <th>25%</th>\n",
       "      <td>4.024500e+04</td>\n",
       "      <td>3.000000e+00</td>\n",
       "      <td>1.000000e+00</td>\n",
       "      <td>1.300000e+01</td>\n",
       "      <td>1.400000e+02</td>\n",
       "      <td>0.000000e+00</td>\n",
       "    </tr>\n",
       "    <tr>\n",
       "      <th>50%</th>\n",
       "      <td>7.962200e+04</td>\n",
       "      <td>1.200000e+01</td>\n",
       "      <td>1.000000e+00</td>\n",
       "      <td>1.800000e+01</td>\n",
       "      <td>2.580000e+02</td>\n",
       "      <td>0.000000e+00</td>\n",
       "    </tr>\n",
       "    <tr>\n",
       "      <th>75%</th>\n",
       "      <td>1.182470e+05</td>\n",
       "      <td>1.500000e+01</td>\n",
       "      <td>1.000000e+00</td>\n",
       "      <td>1.900000e+01</td>\n",
       "      <td>3.790000e+02</td>\n",
       "      <td>0.000000e+00</td>\n",
       "    </tr>\n",
       "    <tr>\n",
       "      <th>max</th>\n",
       "      <td>3.647780e+05</td>\n",
       "      <td>7.680000e+02</td>\n",
       "      <td>4.227000e+03</td>\n",
       "      <td>9.560000e+02</td>\n",
       "      <td>5.000000e+02</td>\n",
       "      <td>1.000000e+00</td>\n",
       "    </tr>\n",
       "  </tbody>\n",
       "</table>\n",
       "</div>"
      ],
      "text/plain": [
       "                 ip           app        device            os       channel  \\\n",
       "count  1.849039e+08  1.849039e+08  1.849039e+08  1.849039e+08  1.849039e+08   \n",
       "mean   9.087604e+04  1.201131e+01  2.172325e+01  2.267702e+01  2.685789e+02   \n",
       "std    6.952789e+04  1.480521e+01  2.593326e+02  5.525282e+01  1.295882e+02   \n",
       "min    1.000000e+00  0.000000e+00  0.000000e+00  0.000000e+00  0.000000e+00   \n",
       "25%    4.024500e+04  3.000000e+00  1.000000e+00  1.300000e+01  1.400000e+02   \n",
       "50%    7.962200e+04  1.200000e+01  1.000000e+00  1.800000e+01  2.580000e+02   \n",
       "75%    1.182470e+05  1.500000e+01  1.000000e+00  1.900000e+01  3.790000e+02   \n",
       "max    3.647780e+05  7.680000e+02  4.227000e+03  9.560000e+02  5.000000e+02   \n",
       "\n",
       "       is_attributed  \n",
       "count   1.849039e+08  \n",
       "mean    2.470721e-03  \n",
       "std     4.964491e-02  \n",
       "min     0.000000e+00  \n",
       "25%     0.000000e+00  \n",
       "50%     0.000000e+00  \n",
       "75%     0.000000e+00  \n",
       "max     1.000000e+00  "
      ]
     },
     "execution_count": 8,
     "metadata": {},
     "output_type": "execute_result"
    }
   ],
   "source": [
    "train.describe()"
   ]
  },
  {
   "cell_type": "markdown",
   "metadata": {},
   "source": [
    "### 변수 상관관계 "
   ]
  },
  {
   "cell_type": "code",
   "execution_count": 7,
   "metadata": {},
   "outputs": [
    {
     "data": {
      "text/html": [
       "<div>\n",
       "<style>\n",
       "    .dataframe thead tr:only-child th {\n",
       "        text-align: right;\n",
       "    }\n",
       "\n",
       "    .dataframe thead th {\n",
       "        text-align: left;\n",
       "    }\n",
       "\n",
       "    .dataframe tbody tr th {\n",
       "        vertical-align: top;\n",
       "    }\n",
       "</style>\n",
       "<table border=\"1\" class=\"dataframe\">\n",
       "  <thead>\n",
       "    <tr style=\"text-align: right;\">\n",
       "      <th></th>\n",
       "      <th>ip</th>\n",
       "      <th>app</th>\n",
       "      <th>device</th>\n",
       "      <th>os</th>\n",
       "      <th>channel</th>\n",
       "      <th>is_attributed</th>\n",
       "    </tr>\n",
       "  </thead>\n",
       "  <tbody>\n",
       "    <tr>\n",
       "      <th>ip</th>\n",
       "      <td>1.000000</td>\n",
       "      <td>0.006644</td>\n",
       "      <td>-0.000926</td>\n",
       "      <td>-0.000190</td>\n",
       "      <td>0.004391</td>\n",
       "      <td>0.053833</td>\n",
       "    </tr>\n",
       "    <tr>\n",
       "      <th>app</th>\n",
       "      <td>0.006644</td>\n",
       "      <td>1.000000</td>\n",
       "      <td>0.255865</td>\n",
       "      <td>0.255960</td>\n",
       "      <td>-0.028031</td>\n",
       "      <td>0.059722</td>\n",
       "    </tr>\n",
       "    <tr>\n",
       "      <th>device</th>\n",
       "      <td>-0.000926</td>\n",
       "      <td>0.255865</td>\n",
       "      <td>1.000000</td>\n",
       "      <td>0.939909</td>\n",
       "      <td>-0.034503</td>\n",
       "      <td>0.001936</td>\n",
       "    </tr>\n",
       "    <tr>\n",
       "      <th>os</th>\n",
       "      <td>-0.000190</td>\n",
       "      <td>0.255960</td>\n",
       "      <td>0.939909</td>\n",
       "      <td>1.000000</td>\n",
       "      <td>-0.031511</td>\n",
       "      <td>0.001630</td>\n",
       "    </tr>\n",
       "    <tr>\n",
       "      <th>channel</th>\n",
       "      <td>0.004391</td>\n",
       "      <td>-0.028031</td>\n",
       "      <td>-0.034503</td>\n",
       "      <td>-0.031511</td>\n",
       "      <td>1.000000</td>\n",
       "      <td>-0.024133</td>\n",
       "    </tr>\n",
       "    <tr>\n",
       "      <th>is_attributed</th>\n",
       "      <td>0.053833</td>\n",
       "      <td>0.059722</td>\n",
       "      <td>0.001936</td>\n",
       "      <td>0.001630</td>\n",
       "      <td>-0.024133</td>\n",
       "      <td>1.000000</td>\n",
       "    </tr>\n",
       "  </tbody>\n",
       "</table>\n",
       "</div>"
      ],
      "text/plain": [
       "                     ip       app    device        os   channel  is_attributed\n",
       "ip             1.000000  0.006644 -0.000926 -0.000190  0.004391       0.053833\n",
       "app            0.006644  1.000000  0.255865  0.255960 -0.028031       0.059722\n",
       "device        -0.000926  0.255865  1.000000  0.939909 -0.034503       0.001936\n",
       "os            -0.000190  0.255960  0.939909  1.000000 -0.031511       0.001630\n",
       "channel        0.004391 -0.028031 -0.034503 -0.031511  1.000000      -0.024133\n",
       "is_attributed  0.053833  0.059722  0.001936  0.001630 -0.024133       1.000000"
      ]
     },
     "execution_count": 7,
     "metadata": {},
     "output_type": "execute_result"
    }
   ],
   "source": [
    "# 상관관계 (거의 상관없을지 모르지만 혹시라도)\n",
    "# device 와 os 번호가 상관관계가 있는데 최신폰과 최신 OS이면 그럴수 있을듯 \n",
    "train.corr() "
   ]
  },
  {
   "cell_type": "code",
   "execution_count": 9,
   "metadata": {
    "collapsed": true
   },
   "outputs": [],
   "source": [
    "train['date'] = train.click_time.str[0 : 10]\n",
    "train['hour'] = train.click_time.str[11 : 13]\n",
    "train['minute'] = train.click_time.str[14 : 16]\n",
    "train['sec'] = train.click_time.str[17 : 19]"
   ]
  },
  {
   "cell_type": "code",
   "execution_count": 11,
   "metadata": {},
   "outputs": [
    {
     "data": {
      "text/html": [
       "<div>\n",
       "<style>\n",
       "    .dataframe thead tr:only-child th {\n",
       "        text-align: right;\n",
       "    }\n",
       "\n",
       "    .dataframe thead th {\n",
       "        text-align: left;\n",
       "    }\n",
       "\n",
       "    .dataframe tbody tr th {\n",
       "        vertical-align: top;\n",
       "    }\n",
       "</style>\n",
       "<table border=\"1\" class=\"dataframe\">\n",
       "  <thead>\n",
       "    <tr style=\"text-align: right;\">\n",
       "      <th></th>\n",
       "      <th>ip</th>\n",
       "      <th>app</th>\n",
       "      <th>device</th>\n",
       "      <th>os</th>\n",
       "      <th>channel</th>\n",
       "      <th>click_time</th>\n",
       "      <th>attributed_time</th>\n",
       "      <th>is_attributed</th>\n",
       "      <th>date</th>\n",
       "      <th>hour</th>\n",
       "      <th>minute</th>\n",
       "      <th>sec</th>\n",
       "    </tr>\n",
       "  </thead>\n",
       "  <tbody>\n",
       "    <tr>\n",
       "      <th>0</th>\n",
       "      <td>83230</td>\n",
       "      <td>3</td>\n",
       "      <td>1</td>\n",
       "      <td>13</td>\n",
       "      <td>379</td>\n",
       "      <td>2017-11-06 14:32:21</td>\n",
       "      <td>NaN</td>\n",
       "      <td>0</td>\n",
       "      <td>2017-11-06</td>\n",
       "      <td>14</td>\n",
       "      <td>32</td>\n",
       "      <td>21</td>\n",
       "    </tr>\n",
       "    <tr>\n",
       "      <th>1</th>\n",
       "      <td>17357</td>\n",
       "      <td>3</td>\n",
       "      <td>1</td>\n",
       "      <td>19</td>\n",
       "      <td>379</td>\n",
       "      <td>2017-11-06 14:33:34</td>\n",
       "      <td>NaN</td>\n",
       "      <td>0</td>\n",
       "      <td>2017-11-06</td>\n",
       "      <td>14</td>\n",
       "      <td>33</td>\n",
       "      <td>34</td>\n",
       "    </tr>\n",
       "    <tr>\n",
       "      <th>2</th>\n",
       "      <td>35810</td>\n",
       "      <td>3</td>\n",
       "      <td>1</td>\n",
       "      <td>13</td>\n",
       "      <td>379</td>\n",
       "      <td>2017-11-06 14:34:12</td>\n",
       "      <td>NaN</td>\n",
       "      <td>0</td>\n",
       "      <td>2017-11-06</td>\n",
       "      <td>14</td>\n",
       "      <td>34</td>\n",
       "      <td>12</td>\n",
       "    </tr>\n",
       "    <tr>\n",
       "      <th>3</th>\n",
       "      <td>45745</td>\n",
       "      <td>14</td>\n",
       "      <td>1</td>\n",
       "      <td>13</td>\n",
       "      <td>478</td>\n",
       "      <td>2017-11-06 14:34:52</td>\n",
       "      <td>NaN</td>\n",
       "      <td>0</td>\n",
       "      <td>2017-11-06</td>\n",
       "      <td>14</td>\n",
       "      <td>34</td>\n",
       "      <td>52</td>\n",
       "    </tr>\n",
       "    <tr>\n",
       "      <th>4</th>\n",
       "      <td>161007</td>\n",
       "      <td>3</td>\n",
       "      <td>1</td>\n",
       "      <td>13</td>\n",
       "      <td>379</td>\n",
       "      <td>2017-11-06 14:35:08</td>\n",
       "      <td>NaN</td>\n",
       "      <td>0</td>\n",
       "      <td>2017-11-06</td>\n",
       "      <td>14</td>\n",
       "      <td>35</td>\n",
       "      <td>08</td>\n",
       "    </tr>\n",
       "  </tbody>\n",
       "</table>\n",
       "</div>"
      ],
      "text/plain": [
       "       ip  app  device  os  channel           click_time attributed_time  \\\n",
       "0   83230    3       1  13      379  2017-11-06 14:32:21             NaN   \n",
       "1   17357    3       1  19      379  2017-11-06 14:33:34             NaN   \n",
       "2   35810    3       1  13      379  2017-11-06 14:34:12             NaN   \n",
       "3   45745   14       1  13      478  2017-11-06 14:34:52             NaN   \n",
       "4  161007    3       1  13      379  2017-11-06 14:35:08             NaN   \n",
       "\n",
       "   is_attributed        date hour minute sec  \n",
       "0              0  2017-11-06   14     32  21  \n",
       "1              0  2017-11-06   14     33  34  \n",
       "2              0  2017-11-06   14     34  12  \n",
       "3              0  2017-11-06   14     34  52  \n",
       "4              0  2017-11-06   14     35  08  "
      ]
     },
     "execution_count": 11,
     "metadata": {},
     "output_type": "execute_result"
    }
   ],
   "source": [
    "train.head()"
   ]
  },
  {
   "cell_type": "markdown",
   "metadata": {},
   "source": [
    "### 변수별 고유값 개수"
   ]
  },
  {
   "cell_type": "code",
   "execution_count": 16,
   "metadata": {},
   "outputs": [
    {
     "data": {
      "image/png": "[encoded data removed]",
      "text/plain": [
       "<matplotlib.figure.Figure at 0x11d777b70>"
      ]
     },
     "metadata": {},
     "output_type": "display_data"
    }
   ],
   "source": [
    "# 전체 row 갯수는 184,903,890개 (1억 8천4백9십만 3천8백9십)\n",
    "# ip : 277,396개 \n",
    "# app : 706개\n",
    "# device : 3,475개\n",
    "# os : 800 개\n",
    "plt.figure(figsize=(15, 8))\n",
    "cols = ['ip', 'app', 'device', 'os', 'channel']\n",
    "uniques = [len(train[col].unique()) for col in cols]\n",
    "sns.set(font_scale=1.2)\n",
    "ax = sns.barplot(cols, uniques, palette = color, log = True)\n",
    "ax.set(xlabel='Feature', ylabel='unique count', title='Number of unique values per feature')\n",
    "for p, uniq in zip(ax.patches, uniques):\n",
    "    height = p.get_height()\n",
    "    ax.text(p.get_x() + p.get_width()/2.,\n",
    "            height + 10,s\n",
    "            uniq,\n",
    "            ha=\"center\") "
   ]
  },
  {
   "cell_type": "markdown",
   "metadata": {},
   "source": [
    "### app"
   ]
  },
  {
   "cell_type": "code",
   "execution_count": 70,
   "metadata": {},
   "outputs": [
    {
     "name": "stdout",
     "output_type": "stream",
     "text": [
      "상위 1% '7.0': | 상위 5% '3.0': | 상위 10%: 2.0 | 상위 20%: 1.0 | 상위 30%: 1.0 | 상위 50%: 1.0 |  상위 70%: 1.0 | 최대값: 86 | 최소값: 1 | 평균값: 1.3574180331213934\n"
     ]
    }
   ],
   "source": [
    "# is_attributed 가 1인 ip 의 평균 app 사용 개수 \n",
    "trainGroup = []\n",
    "trainGroup = train[train.is_attributed == 1].groupby(['ip'])['app'].nunique().reset_index(name='n')\n",
    "max_value = np.max(trainGroup.n)\n",
    "min_value = np.min(trainGroup.n)\n",
    "mean_value = round(np.mean(trainGroup.n), 2)\n",
    "qrange = [0.99, 0.95, 0.90, 0.8, 0.7, 0.5, 0.3]\n",
    "result = []\n",
    "for value in qrange:\n",
    "    result.append(trainGroup.n.quantile(value))\n",
    "\n",
    "print(\"상위 1% '{}': | 상위 5% '{}': | 상위 10%: {} | 상위 20%: {} | 상위 30%: {} | 상위 50%: {} |  상위 70%: {} | 최대값: {} | 최소값: {} | 평균값: {}\".format(*result, max_value, min_value, mean_value))"
   ]
  },
  {
   "cell_type": "code",
   "execution_count": 71,
   "metadata": {},
   "outputs": [
    {
     "name": "stdout",
     "output_type": "stream",
     "text": [
      "상위 1% '64.0': | 상위 5% '46.0': | 상위 10%: 38.0 | 상위 20%: 28.0 | 상위 30%: 20.0 | 상위 50%: 9.0 |  상위 70%: 4.0 | 최대값: 247 | 최소값: 1 | 평균값: 15.225170148949367\n"
     ]
    }
   ],
   "source": [
    "# is_attributed 가 0인 ip 의 평균 app 사용 개수 \n",
    "trainGroup = []\n",
    "trainGroup = train[train.is_attributed == 0].groupby(['ip'])['app'].nunique().reset_index(name='n')\n",
    "max_value = np.max(trainGroup.n)\n",
    "min_value = np.min(trainGroup.n)\n",
    "mean_value = round(np.mean(trainGroup.n), 2)\n",
    "qrange = [0.99, 0.95, 0.90, 0.8, 0.7, 0.5, 0.3]\n",
    "result = []\n",
    "for value in qrange:\n",
    "    result.append(trainGroup.n.quantile(value))\n",
    "\n",
    "print(\"상위 1% '{}': | 상위 5% '{}': | 상위 10%: {} | 상위 20%: {} | 상위 30%: {} | 상위 50%: {} |  상위 70%: {} | 최대값: {} | 최소값: {} | 평균값: {}\".format(*result, max_value, min_value, mean_value))"
   ]
  },
  {
   "cell_type": "code",
   "execution_count": 73,
   "metadata": {},
   "outputs": [
    {
     "data": {
      "text/plain": [
       "app\n",
       "3     33911780\n",
       "12    24179003\n",
       "2     21642136\n",
       "9     16458268\n",
       "15    15958970\n",
       "18    15756587\n",
       "14    10027169\n",
       "1      5796274\n",
       "13     4329409\n",
       "8      3731948\n",
       "dtype: int64"
      ]
     },
     "execution_count": 73,
     "metadata": {},
     "output_type": "execute_result"
    }
   ],
   "source": [
    "# app 상위 10개 \n",
    "train.groupby('app').size().sort_values(ascending = False).head(n = 10)"
   ]
  },
  {
   "cell_type": "code",
   "execution_count": null,
   "metadata": {},
   "outputs": [
    {
     "data": {
      "text/plain": [
       "app\n",
       "19    132390\n",
       "35     64279\n",
       "29     39957\n",
       "10     34578\n",
       "5      27263\n",
       "9      18823\n",
       "45     16307\n",
       "72     11443\n",
       "3      10261\n",
       "18      7919\n",
       "dtype: int64"
      ]
     },
     "execution_count": 9,
     "metadata": {},
     "output_type": "execute_result"
    }
   ],
   "source": [
    "# is_attributed == 1 app 상위 10개\n",
    "# 19, 35, 29, 10, 5, 45, 72 등등 순위가 높음\n",
    "# 3, 9, 18 은 오히려 순위 하락\n",
    "train[train.is_attributed == 1].groupby('app').size().sort_values(ascending = False).head(n = 10)"
   ]
  },
  {
   "cell_type": "code",
   "execution_count": 78,
   "metadata": {},
   "outputs": [
    {
     "data": {
      "text/plain": [
       "<matplotlib.figure.Figure at 0x25b697978>"
      ]
     },
     "metadata": {},
     "output_type": "display_data"
    },
    {
     "data": {
      "image/png": "[encoded data removed]",
      "text/plain": [
       "<matplotlib.figure.Figure at 0x25a6d2198>"
      ]
     },
     "metadata": {},
     "output_type": "display_data"
    }
   ],
   "source": [
    "plt.figure(figsize=(15, 8))\n",
    "app = train.groupby(['app', 'is_attributed'])['app'].count().unstack('is_attributed')\n",
    "app /= app.sum()\n",
    "app[[1, 0]].plot(kind = 'bar')\n",
    "plt.show()"
   ]
  },
  {
   "cell_type": "code",
   "execution_count": 76,
   "metadata": {
    "scrolled": false
   },
   "outputs": [
    {
     "data": {
      "image/png": "[encoded data removed]",
      "text/plain": [
       "<matplotlib.figure.Figure at 0x2d7d6f8d0>"
      ]
     },
     "metadata": {},
     "output_type": "display_data"
    }
   ],
   "source": [
    "plt.figure(figsize=(15, 8))\n",
    "sns.countplot(x = 'app', data = train, palette = color, log = True)\n",
    "plt.show()"
   ]
  },
  {
   "cell_type": "code",
   "execution_count": 91,
   "metadata": {
    "collapsed": true
   },
   "outputs": [],
   "source": [
    "app1 = train.groupby(['app', 'is_attributed'])['ip'].nunique().reset_index(name='count')\n",
    "appAll = train.groupby(['app'])['ip'].nunique().reset_index(name='total')\n",
    "app1Join= app1.join(appAll.set_index('app'), on='app')"
   ]
  },
  {
   "cell_type": "code",
   "execution_count": 93,
   "metadata": {
    "collapsed": true
   },
   "outputs": [],
   "source": [
    "app1Join['ratio'] = app1Join['count'] / app1Join['total']"
   ]
  },
  {
   "cell_type": "code",
   "execution_count": 107,
   "metadata": {},
   "outputs": [
    {
     "name": "stderr",
     "output_type": "stream",
     "text": [
      "/anaconda/lib/python3.6/site-packages/ipykernel_launcher.py:1: UserWarning: Boolean Series key will be reindexed to match DataFrame index.\n",
      "  \"\"\"Entry point for launching an IPython kernel.\n"
     ]
    },
    {
     "data": {
      "text/html": [
       "<div>\n",
       "<style>\n",
       "    .dataframe thead tr:only-child th {\n",
       "        text-align: right;\n",
       "    }\n",
       "\n",
       "    .dataframe thead th {\n",
       "        text-align: left;\n",
       "    }\n",
       "\n",
       "    .dataframe tbody tr th {\n",
       "        vertical-align: top;\n",
       "    }\n",
       "</style>\n",
       "<table border=\"1\" class=\"dataframe\">\n",
       "  <thead>\n",
       "    <tr style=\"text-align: right;\">\n",
       "      <th></th>\n",
       "      <th>app</th>\n",
       "      <th>is_attributed</th>\n",
       "      <th>count</th>\n",
       "      <th>total</th>\n",
       "      <th>ratio</th>\n",
       "    </tr>\n",
       "  </thead>\n",
       "  <tbody>\n",
       "    <tr>\n",
       "      <th>195</th>\n",
       "      <td>116</td>\n",
       "      <td>1</td>\n",
       "      <td>597</td>\n",
       "      <td>633</td>\n",
       "      <td>0.943128</td>\n",
       "    </tr>\n",
       "    <tr>\n",
       "      <th>764</th>\n",
       "      <td>618</td>\n",
       "      <td>1</td>\n",
       "      <td>7</td>\n",
       "      <td>8</td>\n",
       "      <td>0.875000</td>\n",
       "    </tr>\n",
       "    <tr>\n",
       "      <th>376</th>\n",
       "      <td>246</td>\n",
       "      <td>1</td>\n",
       "      <td>207</td>\n",
       "      <td>238</td>\n",
       "      <td>0.869748</td>\n",
       "    </tr>\n",
       "    <tr>\n",
       "      <th>69</th>\n",
       "      <td>35</td>\n",
       "      <td>1</td>\n",
       "      <td>29610</td>\n",
       "      <td>35019</td>\n",
       "      <td>0.845541</td>\n",
       "    </tr>\n",
       "    <tr>\n",
       "      <th>39</th>\n",
       "      <td>19</td>\n",
       "      <td>1</td>\n",
       "      <td>99506</td>\n",
       "      <td>128919</td>\n",
       "      <td>0.771849</td>\n",
       "    </tr>\n",
       "    <tr>\n",
       "      <th>334</th>\n",
       "      <td>214</td>\n",
       "      <td>1</td>\n",
       "      <td>257</td>\n",
       "      <td>333</td>\n",
       "      <td>0.771772</td>\n",
       "    </tr>\n",
       "    <tr>\n",
       "      <th>530</th>\n",
       "      <td>364</td>\n",
       "      <td>1</td>\n",
       "      <td>3</td>\n",
       "      <td>4</td>\n",
       "      <td>0.750000</td>\n",
       "    </tr>\n",
       "    <tr>\n",
       "      <th>146</th>\n",
       "      <td>84</td>\n",
       "      <td>1</td>\n",
       "      <td>2587</td>\n",
       "      <td>3472</td>\n",
       "      <td>0.745104</td>\n",
       "    </tr>\n",
       "    <tr>\n",
       "      <th>550</th>\n",
       "      <td>383</td>\n",
       "      <td>1</td>\n",
       "      <td>14</td>\n",
       "      <td>19</td>\n",
       "      <td>0.736842</td>\n",
       "    </tr>\n",
       "    <tr>\n",
       "      <th>345</th>\n",
       "      <td>223</td>\n",
       "      <td>1</td>\n",
       "      <td>77</td>\n",
       "      <td>105</td>\n",
       "      <td>0.733333</td>\n",
       "    </tr>\n",
       "    <tr>\n",
       "      <th>771</th>\n",
       "      <td>624</td>\n",
       "      <td>1</td>\n",
       "      <td>5</td>\n",
       "      <td>7</td>\n",
       "      <td>0.714286</td>\n",
       "    </tr>\n",
       "    <tr>\n",
       "      <th>1</th>\n",
       "      <td>0</td>\n",
       "      <td>1</td>\n",
       "      <td>971</td>\n",
       "      <td>1426</td>\n",
       "      <td>0.680926</td>\n",
       "    </tr>\n",
       "    <tr>\n",
       "      <th>593</th>\n",
       "      <td>431</td>\n",
       "      <td>1</td>\n",
       "      <td>17</td>\n",
       "      <td>25</td>\n",
       "      <td>0.680000</td>\n",
       "    </tr>\n",
       "    <tr>\n",
       "      <th>354</th>\n",
       "      <td>230</td>\n",
       "      <td>1</td>\n",
       "      <td>110</td>\n",
       "      <td>163</td>\n",
       "      <td>0.674847</td>\n",
       "    </tr>\n",
       "    <tr>\n",
       "      <th>623</th>\n",
       "      <td>475</td>\n",
       "      <td>1</td>\n",
       "      <td>2</td>\n",
       "      <td>3</td>\n",
       "      <td>0.666667</td>\n",
       "    </tr>\n",
       "    <tr>\n",
       "      <th>305</th>\n",
       "      <td>195</td>\n",
       "      <td>1</td>\n",
       "      <td>84</td>\n",
       "      <td>128</td>\n",
       "      <td>0.656250</td>\n",
       "    </tr>\n",
       "    <tr>\n",
       "      <th>392</th>\n",
       "      <td>256</td>\n",
       "      <td>1</td>\n",
       "      <td>85</td>\n",
       "      <td>135</td>\n",
       "      <td>0.629630</td>\n",
       "    </tr>\n",
       "    <tr>\n",
       "      <th>128</th>\n",
       "      <td>72</td>\n",
       "      <td>1</td>\n",
       "      <td>10701</td>\n",
       "      <td>17111</td>\n",
       "      <td>0.625387</td>\n",
       "    </tr>\n",
       "    <tr>\n",
       "      <th>281</th>\n",
       "      <td>175</td>\n",
       "      <td>1</td>\n",
       "      <td>297</td>\n",
       "      <td>483</td>\n",
       "      <td>0.614907</td>\n",
       "    </tr>\n",
       "    <tr>\n",
       "      <th>279</th>\n",
       "      <td>174</td>\n",
       "      <td>1</td>\n",
       "      <td>29</td>\n",
       "      <td>48</td>\n",
       "      <td>0.604167</td>\n",
       "    </tr>\n",
       "  </tbody>\n",
       "</table>\n",
       "</div>"
      ],
      "text/plain": [
       "     app  is_attributed  count   total     ratio\n",
       "195  116              1    597     633  0.943128\n",
       "764  618              1      7       8  0.875000\n",
       "376  246              1    207     238  0.869748\n",
       "69    35              1  29610   35019  0.845541\n",
       "39    19              1  99506  128919  0.771849\n",
       "334  214              1    257     333  0.771772\n",
       "530  364              1      3       4  0.750000\n",
       "146   84              1   2587    3472  0.745104\n",
       "550  383              1     14      19  0.736842\n",
       "345  223              1     77     105  0.733333\n",
       "771  624              1      5       7  0.714286\n",
       "1      0              1    971    1426  0.680926\n",
       "593  431              1     17      25  0.680000\n",
       "354  230              1    110     163  0.674847\n",
       "623  475              1      2       3  0.666667\n",
       "305  195              1     84     128  0.656250\n",
       "392  256              1     85     135  0.629630\n",
       "128   72              1  10701   17111  0.625387\n",
       "281  175              1    297     483  0.614907\n",
       "279  174              1     29      48  0.604167"
      ]
     },
     "execution_count": 107,
     "metadata": {},
     "output_type": "execute_result"
    }
   ],
   "source": [
    "# app 별 is attirbuted 비율 \n",
    "app1Join[(app1Join.is_attributed == 1) & (app1Join.ratio < 1)].sort_values(by = \"ratio\",ascending = False).head(n = 20)"
   ]
  },
  {
   "cell_type": "code",
   "execution_count": 110,
   "metadata": {},
   "outputs": [
    {
     "data": {
      "text/plain": [
       "0.2803369763751778"
      ]
     },
     "execution_count": 110,
     "metadata": {},
     "output_type": "execute_result"
    }
   ],
   "source": [
    "# app 별 is_attributed 비율 평균 \n",
    "app1Join[app1Join.is_attributed == 1].ratio.mean()"
   ]
  },
  {
   "cell_type": "code",
   "execution_count": 114,
   "metadata": {},
   "outputs": [
    {
     "name": "stdout",
     "output_type": "stream",
     "text": [
      "상위 1% '1.0': | 상위 5% '1.0': | 상위 10%: 0.74 | 상위 20%: 0.5 | 상위 30%: 0.47 | 상위 50%: 0.18 |  상위 75%: 0.04 | 최대값: 1.0 | 최소값: 0.0 | 평균값: 0.28\n"
     ]
    }
   ],
   "source": [
    "# app 별 is_attirbuted 비율 분포 \n",
    "temp = []\n",
    "temp = app1Join[app1Join.is_attributed == 1].ratio\n",
    "max_value = round(np.max(temp), 2)\n",
    "min_value = round(np.min(temp), 2)\n",
    "mean_value = round(np.mean(temp), 2)\n",
    "qrange = [0.99, 0.95, 0.90, 0.8, 0.75, 0.5, 0.3]\n",
    "result = []\n",
    "for value in qrange:\n",
    "    result.append(round(temp.quantile(value),2))\n",
    "\n",
    "print(\"상위 1% '{}': | 상위 5% '{}': | 상위 10%: {} | 상위 20%: {} | 상위 30%: {} | 상위 50%: {} |  상위 75%: {} | 최대값: {} | 최소값: {} | 평균값: {}\".format(*result, max_value, min_value, mean_value))"
   ]
  },
  {
   "cell_type": "markdown",
   "metadata": {},
   "source": [
    "### device"
   ]
  },
  {
   "cell_type": "code",
   "execution_count": 119,
   "metadata": {
    "scrolled": true
   },
   "outputs": [
    {
     "name": "stdout",
     "output_type": "stream",
     "text": [
      "상위 1% '3.0': | 상위 5% '2.0': | 상위 10%: 1.0 | 상위 20%: 1.0 | 상위 30%: 1.0 | 상위 50%: 1.0 |  상위 75%: 1.0 | 최대값: 115 | 최소값: 1 | 평균값: 1.14\n"
     ]
    }
   ],
   "source": [
    "# is_attributed 가 1인 ip 의 평균 device 사용 개수 \n",
    "temp = []\n",
    "temp = train[train.is_attributed == 1].groupby(['ip'])['device'].nunique().reset_index(name='n')\n",
    "max_value = round(np.max(temp.n), 2)\n",
    "min_value = round(np.min(temp.n), 2)\n",
    "mean_value = round(np.mean(temp.n), 2)\n",
    "qrange = [0.99, 0.95, 0.90, 0.8, 0.75, 0.5, 0.3]\n",
    "result = []\n",
    "for value in qrange:\n",
    "    result.append(round(temp.n.quantile(value),2))\n",
    "\n",
    "print(\"상위 1% '{}': | 상위 5% '{}': | 상위 10%: {} | 상위 20%: {} | 상위 30%: {} | 상위 50%: {} |  상위 75%: {} | 최대값: {} | 최소값: {} | 평균값: {}\".format(*result, max_value, min_value, mean_value))"
   ]
  },
  {
   "cell_type": "code",
   "execution_count": 121,
   "metadata": {},
   "outputs": [
    {
     "name": "stdout",
     "output_type": "stream",
     "text": [
      "상위 1% '15.0': | 상위 5% '8.0': | 상위 10%: 5.0 | 상위 20%: 3.0 | 상위 30%: 3.0 | 상위 50%: 1.0 |  상위 75%: 1.0 | 최대값: 441 | 최소값: 1 | 평균값: 2.56\n"
     ]
    }
   ],
   "source": [
    "# is_attributed 가 0인 ip 의 평균 device 사용 개수 \n",
    "temp = []\n",
    "temp = train[train.is_attributed == 0].groupby(['ip'])['device'].nunique().reset_index(name='n')\n",
    "max_value = round(np.max(temp.n), 2)\n",
    "min_value = round(np.min(temp.n), 2)\n",
    "mean_value = round(np.mean(temp.n), 2)\n",
    "qrange = [0.99, 0.95, 0.90, 0.8, 0.75, 0.5, 0.3]\n",
    "result = []\n",
    "for value in qrange:\n",
    "    result.append(round(temp.n.quantile(value),2))\n",
    "\n",
    "print(\"상위 1% '{}': | 상위 5% '{}': | 상위 10%: {} | 상위 20%: {} | 상위 30%: {} | 상위 50%: {} |  상위 75%: {} | 최대값: {} | 최소값: {} | 평균값: {}\".format(*result, max_value, min_value, mean_value))"
   ]
  },
  {
   "cell_type": "markdown",
   "metadata": {},
   "source": [
    "### os"
   ]
  },
  {
   "cell_type": "code",
   "execution_count": 122,
   "metadata": {},
   "outputs": [
    {
     "name": "stdout",
     "output_type": "stream",
     "text": [
      "상위 1% '8.0': | 상위 5% '4.0': | 상위 10%: 3.0 | 상위 20%: 1.0 | 상위 30%: 1.0 | 상위 50%: 1.0 |  상위 75%: 1.0 | 최대값: 57 | 최소값: 1 | 평균값: 1.48\n"
     ]
    }
   ],
   "source": [
    "# is_attributed 가 1인 ip 의 평균 os 사용 개수 \n",
    "temp = []\n",
    "temp = train[train.is_attributed == 1].groupby(['ip'])['os'].nunique().reset_index(name='n')\n",
    "max_value = round(np.max(temp.n), 2)\n",
    "min_value = round(np.min(temp.n), 2)\n",
    "mean_value = round(np.mean(temp.n), 2)\n",
    "qrange = [0.99, 0.95, 0.90, 0.8, 0.75, 0.5, 0.3]\n",
    "result = []\n",
    "for value in qrange:\n",
    "    result.append(round(temp.n.quantile(value),2))\n",
    "\n",
    "print(\"상위 1% '{}': | 상위 5% '{}': | 상위 10%: {} | 상위 20%: {} | 상위 30%: {} | 상위 50%: {} |  상위 75%: {} | 최대값: {} | 최소값: {} | 평균값: {}\".format(*result, max_value, min_value, mean_value))"
   ]
  },
  {
   "cell_type": "code",
   "execution_count": 123,
   "metadata": {},
   "outputs": [
    {
     "name": "stdout",
     "output_type": "stream",
     "text": [
      "상위 1% '63.0': | 상위 5% '48.0': | 상위 10%: 40.0 | 상위 20%: 24.0 | 상위 30%: 18.0 | 상위 50%: 3.0 |  상위 75%: 2.0 | 최대값: 187 | 최소값: 1 | 평균값: 12.1\n"
     ]
    }
   ],
   "source": [
    "# is_attributed 가 0인 ip 의 평균 os 사용 개수 \n",
    "temp = []\n",
    "temp = train[train.is_attributed == 0].groupby(['ip'])['os'].nunique().reset_index(name='n')\n",
    "max_value = round(np.max(temp.n), 2)\n",
    "min_value = round(np.min(temp.n), 2)\n",
    "mean_value = round(np.mean(temp.n), 2)\n",
    "qrange = [0.99, 0.95, 0.90, 0.8, 0.75, 0.5, 0.3]\n",
    "result = []\n",
    "for value in qrange:\n",
    "    result.append(round(temp.n.quantile(value),2))\n",
    "\n",
    "print(\"상위 1% '{}': | 상위 5% '{}': | 상위 10%: {} | 상위 20%: {} | 상위 30%: {} | 상위 50%: {} |  상위 75%: {} | 최대값: {} | 최소값: {} | 평균값: {}\".format(*result, max_value, min_value, mean_value))"
   ]
  },
  {
   "cell_type": "markdown",
   "metadata": {},
   "source": [
    "### channel"
   ]
  },
  {
   "cell_type": "code",
   "execution_count": 124,
   "metadata": {},
   "outputs": [
    {
     "name": "stdout",
     "output_type": "stream",
     "text": [
      "상위 1% '8.0': | 상위 5% '3.0': | 상위 10%: 2.0 | 상위 20%: 1.0 | 상위 30%: 1.0 | 상위 50%: 1.0 |  상위 75%: 1.0 | 최대값: 90 | 최소값: 1 | 평균값: 1.38\n"
     ]
    }
   ],
   "source": [
    "# is_attributed 가 1인 ip 의 평균 chaanel 사용 개수 \n",
    "temp = []\n",
    "temp = train[train.is_attributed == 1].groupby(['ip'])['channel'].nunique().reset_index(name='n')\n",
    "max_value = round(np.max(temp.n), 2)\n",
    "min_value = round(np.min(temp.n), 2)\n",
    "mean_value = round(np.mean(temp.n), 2)\n",
    "qrange = [0.99, 0.95, 0.90, 0.8, 0.75, 0.5, 0.3]\n",
    "result = []\n",
    "for value in qrange:\n",
    "    result.append(round(temp.n.quantile(value),2))\n",
    "\n",
    "print(\"상위 1% '{}': | 상위 5% '{}': | 상위 10%: {} | 상위 20%: {} | 상위 30%: {} | 상위 50%: {} |  상위 75%: {} | 최대값: {} | 최소값: {} | 평균값: {}\".format(*result, max_value, min_value, mean_value))"
   ]
  },
  {
   "cell_type": "code",
   "execution_count": 125,
   "metadata": {},
   "outputs": [
    {
     "name": "stdout",
     "output_type": "stream",
     "text": [
      "상위 1% '125.0': | 상위 5% '107.0': | 상위 10%: 96.0 | 상위 20%: 74.0 | 상위 30%: 62.0 | 상위 50%: 12.0 |  상위 75%: 4.0 | 최대값: 162 | 최소값: 1 | 평균값: 32.27\n"
     ]
    }
   ],
   "source": [
    "# is_attributed 가 0인 ip 의 평균 channel 사용 개수 \n",
    "temp = []\n",
    "temp = train[train.is_attributed == 0].groupby(['ip'])['channel'].nunique().reset_index(name='n')\n",
    "max_value = round(np.max(temp.n), 2)\n",
    "min_value = round(np.min(temp.n), 2)\n",
    "mean_value = round(np.mean(temp.n), 2)\n",
    "qrange = [0.99, 0.95, 0.90, 0.8, 0.75, 0.5, 0.3]\n",
    "result = []\n",
    "for value in qrange:\n",
    "    result.append(round(temp.n.quantile(value),2))\n",
    "\n",
    "print(\"상위 1% '{}': | 상위 5% '{}': | 상위 10%: {} | 상위 20%: {} | 상위 30%: {} | 상위 50%: {} |  상위 75%: {} | 최대값: {} | 최소값: {} | 평균값: {}\".format(*result, max_value, min_value, mean_value))"
   ]
  },
  {
   "cell_type": "markdown",
   "metadata": {},
   "source": [
    "### app X channel"
   ]
  },
  {
   "cell_type": "code",
   "execution_count": 159,
   "metadata": {
    "collapsed": true
   },
   "outputs": [],
   "source": [
    "# app 별 is_attributed가 평균 비율보다 높은 것만\n",
    "appList = app1Join[(app1Join.is_attributed == 1) & (app1Join.ratio > 0.5) & (app1Join.ratio < 1)].app.unique()"
   ]
  },
  {
   "cell_type": "code",
   "execution_count": null,
   "metadata": {
    "collapsed": true
   },
   "outputs": [],
   "source": [
    "# app중 is_attributed가 높은 것 중에서 주요 어느채널을이 많은지!\n",
    "# 필터 후 app별 channel별 unique한 ip갯수 \n",
    "appTemp = train[(train.is_attributed == 1) & (train.isin({'app': appList}))]\n",
    "appTemp = appTemp.groupby(['app', 'channel'])['ip'].nunique().reset_index(name='count')\n",
    "appTemp.sort_values(by = \"count\", ascending = False)"
   ]
  },
  {
   "cell_type": "markdown",
   "metadata": {},
   "source": [
    "### click time"
   ]
  },
  {
   "cell_type": "code",
   "execution_count": 150,
   "metadata": {},
   "outputs": [
    {
     "data": {
      "text/plain": [
       "<matplotlib.figure.Figure at 0x2dd046f60>"
      ]
     },
     "metadata": {},
     "output_type": "display_data"
    },
    {
     "data": {
      "image/png": "[encoded data removed]",
      "text/plain": [
       "<matplotlib.figure.Figure at 0x2d07c7438>"
      ]
     },
     "metadata": {},
     "output_type": "display_data"
    },
    {
     "data": {
      "image/png": "[encoded data removed]",
      "text/plain": [
       "<matplotlib.figure.Figure at 0x2d0a381d0>"
      ]
     },
     "metadata": {},
     "output_type": "display_data"
    }
   ],
   "source": [
    "# plt size \n",
    "plt.figure(figsize=(15, 8))\n",
    "\n",
    "# click frequency\n",
    "train[['hour','is_attributed']].groupby(['hour'], as_index=True).count().plot()\n",
    "plt.title('HOURLY CLICK FREQUENCY');\n",
    "plt.ylabel('Number of Clicks');\n",
    "\n",
    "# conversion ratio\n",
    "train[['hour','is_attributed']].groupby(['hour'], as_index=True).mean().plot()\n",
    "plt.title('HOURLY CONVERSION RATIO');\n",
    "plt.ylabel('Converted Ratio');"
   ]
  },
  {
   "cell_type": "code",
   "execution_count": null,
   "metadata": {
    "collapsed": true
   },
   "outputs": [],
   "source": [
    "# train['user_id'] = \"{}-{}-{}\".format(train['ip'], train['os'], train['device'])"
   ]
  },
  {
   "cell_type": "code",
   "execution_count": null,
   "metadata": {
    "collapsed": true
   },
   "outputs": [],
   "source": [
    "# is_attributed 가 1인 ip 의 평균 app 사용 개수 \n",
    "trainGroup = []\n",
    "trainGroup = train[train.is_attributed == 1].groupby(['user_id'])['app'].nunique().reset_index(name='n')\n",
    "max_value = np.max(trainGroup.n)\n",
    "min_value = np.min(trainGroup.n)\n",
    "mean_value = round(np.mean(trainGroup.n), 2)\n",
    "qrange = [0.99, 0.95, 0.90, 0.8, 0.7, 0.5, 0.3]\n",
    "result = []\n",
    "for value in qrange:\n",
    "    result.append(trainGroup.n.quantile(value))\n",
    "\n",
    "print(\"상위 1% '{}': | 상위 5% '{}': | 상위 10%: {} | 상위 20%: {} | 상위 30%: {} | 상위 50%: {} |  상위 70%: {} | 최대값: {} | 최소값: {} | 평균값: {}\".format(*result, max_value, min_value, mean_value))"
   ]
  },
  {
   "cell_type": "code",
   "execution_count": null,
   "metadata": {
    "collapsed": true
   },
   "outputs": [],
   "source": [
    "# is_attributed 가 1인 ip 의 평균 app 사용 개수 \n",
    "trainGroup = []\n",
    "trainGroup = train[train.is_attributed == 1].groupby(['user_id'])['app'].nunique().reset_index(name='n')\n",
    "max_value = np.max(trainGroup.n)\n",
    "min_value = np.min(trainGroup.n)\n",
    "mean_value = round(np.mean(trainGroup.n), 2)\n",
    "qrange = [0.99, 0.95, 0.90, 0.8, 0.7, 0.5, 0.3]\n",
    "result = []\n",
    "for value in qrange:\n",
    "    result.append(trainGroup.n.quantile(value))\n",
    "\n",
    "print(\"상위 1% '{}': | 상위 5% '{}': | 상위 10%: {} | 상위 20%: {} | 상위 30%: {} | 상위 50%: {} |  상위 70%: {} | 최대값: {} | 최소값: {} | 평균값: {}\".format(*result, max_value, min_value, mean_value))"
   ]
  },
  {
   "cell_type": "code",
   "execution_count": null,
   "metadata": {},
   "outputs": [],
   "source": []
  }
 ],
 "metadata": {
  "kernelspec": {
   "display_name": "Python 3",
   "language": "python",
   "name": "python3"
  },
  "language_info": {
   "codemirror_mode": {
    "name": "ipython",
    "version": 3
   },
   "file_extension": ".py",
   "mimetype": "text/x-python",
   "name": "python",
   "nbconvert_exporter": "python",
   "pygments_lexer": "ipython3",
   "version": "3.6.4"
  }
 },
 "nbformat": 4,
 "nbformat_minor": 2
}
